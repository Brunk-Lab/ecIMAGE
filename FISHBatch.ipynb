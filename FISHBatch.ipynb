{
 "cells": [
  {
   "cell_type": "code",
   "execution_count": 1,
   "id": "f58c2860-e826-41d7-a4cb-4af532945ae6",
   "metadata": {},
   "outputs": [],
   "source": [
    "import numpy as np\n",
    "from PIL import Image\n",
    "from scipy.ndimage import label\n",
    "import matplotlib.pyplot as plt\n",
    "import os\n",
    "import pandas as pd"
   ]
  },
  {
   "cell_type": "code",
   "execution_count": 2,
   "id": "21f162da-8bae-45da-bdc2-20d4b411e22a",
   "metadata": {},
   "outputs": [],
   "source": [
    "def mask(outarray,inarray):\n",
    "    \n",
    "    outarray = outarray\n",
    "    inarray = inarray\n",
    "    \n",
    "    condition = (outarray==255)\n",
    "    new_value = 1\n",
    "    outarray[condition] = new_value\n",
    "\n",
    "    mult_red = np.multiply(outarray,inarray[:,:,0])\n",
    "    mult_green = np.multiply(outarray,inarray[:,:,1])\n",
    "    mult_blue = np.multiply(outarray,inarray[:,:,2])\n",
    "\n",
    "    return outarray, mult_red, mult_green, mult_blue"
   ]
  },
  {
   "cell_type": "code",
   "execution_count": 3,
   "id": "ab252585-8fc5-471d-94f9-2c6094322281",
   "metadata": {},
   "outputs": [],
   "source": [
    "def isolate_comps(num_comp,outarray,mult_red, mult_green, mult_blue,labeled_out):\n",
    "    comp_red = [[] for _ in range(num_comp)] #list of red pixels per component [[comp1 red pixels], [comp 2 red pixels]....]\n",
    "    comp_green = [[] for _ in range(num_comp)] #list of green pixels per component [[comp1 green pixels], [comp 2 green pixels]....]\n",
    "    comp_blue = [[] for _ in range(num_comp)] #list of blue pixels per component [[comp1 blue pixels], [comp 2 blue pixels]....]\n",
    "\n",
    "    comps = [[] for _ in range(num_comp)] #[[[comp1_x1,comp1_y1],[comp1_x2,comp1_y2]...],[[comp2_x1,comp2_y1],[comp2_x2,comp2_y2]...]...]\n",
    "\n",
    "    for x in range(outarray.shape[0]):\n",
    "        for y in range(outarray.shape[1]):\n",
    "\n",
    "            comp_id = labeled_out[x,y]\n",
    "\n",
    "            redPix = mult_red[x,y]\n",
    "            greenPix = mult_green[x,y]\n",
    "            bluePix = mult_blue[x,y]\n",
    "\n",
    "            if comp_id!=0:\n",
    "                ind = [x,y]\n",
    "                comps[comp_id - 1].append(ind)\n",
    "                comp_red[comp_id - 1].append(redPix)\n",
    "                comp_green[comp_id - 1].append(greenPix)\n",
    "                comp_blue[comp_id - 1].append(bluePix)\n",
    "    return comps,comp_red,comp_green,comp_blue"
   ]
  },
  {
   "cell_type": "code",
   "execution_count": 4,
   "id": "421ca386-6edc-49d2-8887-f987a7ad78f3",
   "metadata": {},
   "outputs": [],
   "source": [
    "def count(num_comp,comp_red,comp_green,comp_blue,red_thresh,green_thresh,blue_thresh):\n",
    "    red_count = 0\n",
    "    green_count = 0\n",
    "    blue_count = 0\n",
    "    red_green_count = 0\n",
    "    for i in range(num_comp):\n",
    "        red_max = max(comp_red[i])\n",
    "        green_max = max(comp_green[i])\n",
    "        blue_max = max(comp_blue[i])\n",
    "        if (blue_max>blue_thresh):\n",
    "            blue_count+=1\n",
    "        if (red_max > red_thresh) & (green_max > green_thresh):\n",
    "            red_green_count+=1\n",
    "        elif (red_max > red_thresh):\n",
    "            red_count+=1\n",
    "        elif (green_max > green_thresh):\n",
    "            green_count+=1\n",
    "    return red_count,green_count,blue_count,red_green_count"
   ]
  },
  {
   "cell_type": "code",
   "execution_count": 22,
   "id": "6d1b0db9-e607-46e4-9116-f5bff129dfb5",
   "metadata": {},
   "outputs": [
    {
     "name": "stdout",
     "output_type": "stream",
     "text": [
      "Minimum error value: 8\n",
      "Maximum sum of thresholds: 106\n",
      "Corresponding red_thresh and green_thresh: (67, 39)\n"
     ]
    }
   ],
   "source": [
    "#find threshold based on one image\n",
    "\n",
    "red_thresh_list = list(range(0, 100, 1))\n",
    "green_thresh_list = list(range(0, 100, 1))\n",
    "blue_thresh = 20\n",
    "\n",
    "true_red = 12\n",
    "true_green = 40\n",
    "true_red_green = 544\n",
    "\n",
    "\n",
    "im = Image.open('') #(2048,2448) mask of 0s and 255s, output from MIA\n",
    "outarray = np.array(im)\n",
    "\n",
    "im = Image.open('') #(2048,2448,3) rgb input image\n",
    "inarray = np.array(im)\n",
    "\n",
    "outarray, mult_red, mult_green, mult_blue = mask(outarray,inarray)\n",
    "\n",
    "structure = np.ones((3, 3), dtype=int)\n",
    "labeled_out, num_comp = label(outarray,structure)\n",
    "\n",
    "comps,comp_red,comp_green,comp_blue = isolate_comps(num_comp,outarray,mult_red, mult_green, mult_blue,labeled_out)\n",
    "\n",
    "errors = []\n",
    "threshs = []\n",
    "\n",
    "for redT in red_thresh_list:\n",
    "    for greenT in green_thresh_list:\n",
    "        red_thresh = redT\n",
    "        green_thresh = greenT\n",
    "        red_count,green_count,blue_count,red_green_count = count(num_comp,comp_red,comp_green,comp_blue,red_thresh,green_thresh,blue_thresh)\n",
    "        error = abs(true_red - red_count) + abs(true_green - green_count) + abs(true_red_green - red_green_count)\n",
    "        errors.append(error)\n",
    "        threshs.append([red_thresh,green_thresh])\n",
    "\n",
    "min_value = min(errors)\n",
    "#print(min_value)\n",
    "min_index = errors.index(min_value)\n",
    "thresh_min = threshs[min_index]\n",
    "#print(thresh_min)\n",
    "\n",
    "# Find the minimum value in the errors list\n",
    "min_value = min(errors)\n",
    "\n",
    "# Get the indices of the minimum value in the errors list\n",
    "min_indices = [index for index, value in enumerate(errors) if value == min_value]\n",
    "\n",
    "# Initialize max sum and corresponding thresh\n",
    "max_sum = float('-inf')\n",
    "best_thresh = None\n",
    "\n",
    "# Iterate through the corresponding threshs for the minimum error indices\n",
    "for i in min_indices:\n",
    "    red_thresh, green_thresh = threshs[i]\n",
    "    current_sum = red_thresh + green_thresh\n",
    "    \n",
    "    # Update if current sum is greater than max_sum\n",
    "    if current_sum > max_sum:\n",
    "        max_sum = current_sum\n",
    "        best_thresh = (red_thresh, green_thresh)\n",
    "\n",
    "# Output the results\n",
    "print(\"Minimum error value:\", min_value)\n",
    "print(\"Maximum sum of thresholds:\", max_sum)\n",
    "print(\"Corresponding red_thresh and green_thresh:\", best_thresh)\n",
    "#red = 67, green = 39. use +-5 to narrow search"
   ]
  },
  {
   "cell_type": "code",
   "execution_count": 7,
   "id": "b1aac008-33fb-45b5-8c5d-3954e80c4ec3",
   "metadata": {},
   "outputs": [
    {
     "name": "stdout",
     "output_type": "stream",
     "text": [
      "Images and labels have been copied to the corrected folders.\n"
     ]
    }
   ],
   "source": [
    "#correct image number--Not all NCIH2170 control images have ground truth FISH probe data, select subset that do\n",
    "\n",
    "import pandas as pd\n",
    "import shutil\n",
    "import os\n",
    "\n",
    "# Load the control DataFrame\n",
    "#control_df = pd.read_csv('')\n",
    "\n",
    "# Define folder paths\n",
    "#folder_path_in = ''\n",
    "#folder_path_out_corrected = ''\n",
    "#folder_path_out_labels = ''\n",
    "#folder_path_out_labels_corrected = ''\n",
    "\n",
    "# Create corrected folders if they don't exist\n",
    "os.makedirs(folder_path_out_corrected, exist_ok=True)\n",
    "os.makedirs(folder_path_out_labels_corrected, exist_ok=True)\n",
    "\n",
    "# Get the list of image names from the control DataFrame\n",
    "image_names = control_df['Image name'].tolist()\n",
    "\n",
    "# Copy images from 'images used' to 'images used corrected'\n",
    "for image_name in image_names:\n",
    "    src_image_path = os.path.join(folder_path_in, image_name)\n",
    "    dst_image_path = os.path.join(folder_path_out_corrected, image_name)\n",
    "    if os.path.isfile(src_image_path):  # Check if the source file exists\n",
    "        shutil.copy(src_image_path, dst_image_path)\n",
    "\n",
    "# Copy tif labels from 'tif labels filled' to 'tif labels filled corrected'\n",
    "for image_name in image_names:\n",
    "    src_label_path = os.path.join(folder_path_out_labels, image_name)\n",
    "    dst_label_path = os.path.join(folder_path_out_labels_corrected, image_name)\n",
    "    if os.path.isfile(src_label_path):  # Check if the source file exists\n",
    "        shutil.copy(src_label_path, dst_label_path)\n",
    "\n",
    "print(\"Images and labels have been copied to the corrected folders.\")\n"
   ]
  },
  {
   "cell_type": "code",
   "execution_count": 6,
   "id": "c016cd63-8404-4220-83a1-e760f554adfe",
   "metadata": {},
   "outputs": [
    {
     "data": {
      "application/vnd.jupyter.widget-view+json": {
       "model_id": "13eb4388f5a34bfda360ac312e99b43d",
       "version_major": 2,
       "version_minor": 0
      },
      "text/plain": [
       "Red Thresholds:   0%|          | 0/11 [00:00<?, ?it/s]"
      ]
     },
     "metadata": {},
     "output_type": "display_data"
    },
    {
     "data": {
      "application/vnd.jupyter.widget-view+json": {
       "model_id": "",
       "version_major": 2,
       "version_minor": 0
      },
      "text/plain": [
       "Green Thresholds:   0%|          | 0/11 [00:00<?, ?it/s]"
      ]
     },
     "metadata": {},
     "output_type": "display_data"
    },
    {
     "data": {
      "application/vnd.jupyter.widget-view+json": {
       "model_id": "",
       "version_major": 2,
       "version_minor": 0
      },
      "text/plain": [
       "Processing Images:   0%|          | 0/5 [00:00<?, ?it/s]"
      ]
     },
     "metadata": {},
     "output_type": "display_data"
    },
    {
     "data": {
      "application/vnd.jupyter.widget-view+json": {
       "model_id": "",
       "version_major": 2,
       "version_minor": 0
      },
      "text/plain": [
       "Processing Images:   0%|          | 0/5 [00:00<?, ?it/s]"
      ]
     },
     "metadata": {},
     "output_type": "display_data"
    },
    {
     "data": {
      "application/vnd.jupyter.widget-view+json": {
       "model_id": "",
       "version_major": 2,
       "version_minor": 0
      },
      "text/plain": [
       "Processing Images:   0%|          | 0/5 [00:00<?, ?it/s]"
      ]
     },
     "metadata": {},
     "output_type": "display_data"
    },
    {
     "data": {
      "application/vnd.jupyter.widget-view+json": {
       "model_id": "",
       "version_major": 2,
       "version_minor": 0
      },
      "text/plain": [
       "Processing Images:   0%|          | 0/5 [00:00<?, ?it/s]"
      ]
     },
     "metadata": {},
     "output_type": "display_data"
    },
    {
     "data": {
      "application/vnd.jupyter.widget-view+json": {
       "model_id": "",
       "version_major": 2,
       "version_minor": 0
      },
      "text/plain": [
       "Processing Images:   0%|          | 0/5 [00:00<?, ?it/s]"
      ]
     },
     "metadata": {},
     "output_type": "display_data"
    },
    {
     "data": {
      "application/vnd.jupyter.widget-view+json": {
       "model_id": "",
       "version_major": 2,
       "version_minor": 0
      },
      "text/plain": [
       "Processing Images:   0%|          | 0/5 [00:00<?, ?it/s]"
      ]
     },
     "metadata": {},
     "output_type": "display_data"
    },
    {
     "data": {
      "application/vnd.jupyter.widget-view+json": {
       "model_id": "",
       "version_major": 2,
       "version_minor": 0
      },
      "text/plain": [
       "Processing Images:   0%|          | 0/5 [00:00<?, ?it/s]"
      ]
     },
     "metadata": {},
     "output_type": "display_data"
    },
    {
     "data": {
      "application/vnd.jupyter.widget-view+json": {
       "model_id": "",
       "version_major": 2,
       "version_minor": 0
      },
      "text/plain": [
       "Processing Images:   0%|          | 0/5 [00:00<?, ?it/s]"
      ]
     },
     "metadata": {},
     "output_type": "display_data"
    },
    {
     "data": {
      "application/vnd.jupyter.widget-view+json": {
       "model_id": "",
       "version_major": 2,
       "version_minor": 0
      },
      "text/plain": [
       "Processing Images:   0%|          | 0/5 [00:00<?, ?it/s]"
      ]
     },
     "metadata": {},
     "output_type": "display_data"
    },
    {
     "data": {
      "application/vnd.jupyter.widget-view+json": {
       "model_id": "",
       "version_major": 2,
       "version_minor": 0
      },
      "text/plain": [
       "Processing Images:   0%|          | 0/5 [00:00<?, ?it/s]"
      ]
     },
     "metadata": {},
     "output_type": "display_data"
    },
    {
     "data": {
      "application/vnd.jupyter.widget-view+json": {
       "model_id": "",
       "version_major": 2,
       "version_minor": 0
      },
      "text/plain": [
       "Processing Images:   0%|          | 0/5 [00:00<?, ?it/s]"
      ]
     },
     "metadata": {},
     "output_type": "display_data"
    },
    {
     "data": {
      "application/vnd.jupyter.widget-view+json": {
       "model_id": "",
       "version_major": 2,
       "version_minor": 0
      },
      "text/plain": [
       "Green Thresholds:   0%|          | 0/11 [00:00<?, ?it/s]"
      ]
     },
     "metadata": {},
     "output_type": "display_data"
    },
    {
     "data": {
      "application/vnd.jupyter.widget-view+json": {
       "model_id": "",
       "version_major": 2,
       "version_minor": 0
      },
      "text/plain": [
       "Processing Images:   0%|          | 0/5 [00:00<?, ?it/s]"
      ]
     },
     "metadata": {},
     "output_type": "display_data"
    },
    {
     "data": {
      "application/vnd.jupyter.widget-view+json": {
       "model_id": "",
       "version_major": 2,
       "version_minor": 0
      },
      "text/plain": [
       "Processing Images:   0%|          | 0/5 [00:00<?, ?it/s]"
      ]
     },
     "metadata": {},
     "output_type": "display_data"
    },
    {
     "data": {
      "application/vnd.jupyter.widget-view+json": {
       "model_id": "",
       "version_major": 2,
       "version_minor": 0
      },
      "text/plain": [
       "Processing Images:   0%|          | 0/5 [00:00<?, ?it/s]"
      ]
     },
     "metadata": {},
     "output_type": "display_data"
    },
    {
     "data": {
      "application/vnd.jupyter.widget-view+json": {
       "model_id": "",
       "version_major": 2,
       "version_minor": 0
      },
      "text/plain": [
       "Processing Images:   0%|          | 0/5 [00:00<?, ?it/s]"
      ]
     },
     "metadata": {},
     "output_type": "display_data"
    },
    {
     "data": {
      "application/vnd.jupyter.widget-view+json": {
       "model_id": "",
       "version_major": 2,
       "version_minor": 0
      },
      "text/plain": [
       "Processing Images:   0%|          | 0/5 [00:00<?, ?it/s]"
      ]
     },
     "metadata": {},
     "output_type": "display_data"
    },
    {
     "data": {
      "application/vnd.jupyter.widget-view+json": {
       "model_id": "",
       "version_major": 2,
       "version_minor": 0
      },
      "text/plain": [
       "Processing Images:   0%|          | 0/5 [00:00<?, ?it/s]"
      ]
     },
     "metadata": {},
     "output_type": "display_data"
    },
    {
     "data": {
      "application/vnd.jupyter.widget-view+json": {
       "model_id": "",
       "version_major": 2,
       "version_minor": 0
      },
      "text/plain": [
       "Processing Images:   0%|          | 0/5 [00:00<?, ?it/s]"
      ]
     },
     "metadata": {},
     "output_type": "display_data"
    },
    {
     "data": {
      "application/vnd.jupyter.widget-view+json": {
       "model_id": "",
       "version_major": 2,
       "version_minor": 0
      },
      "text/plain": [
       "Processing Images:   0%|          | 0/5 [00:00<?, ?it/s]"
      ]
     },
     "metadata": {},
     "output_type": "display_data"
    },
    {
     "data": {
      "application/vnd.jupyter.widget-view+json": {
       "model_id": "",
       "version_major": 2,
       "version_minor": 0
      },
      "text/plain": [
       "Processing Images:   0%|          | 0/5 [00:00<?, ?it/s]"
      ]
     },
     "metadata": {},
     "output_type": "display_data"
    },
    {
     "data": {
      "application/vnd.jupyter.widget-view+json": {
       "model_id": "",
       "version_major": 2,
       "version_minor": 0
      },
      "text/plain": [
       "Processing Images:   0%|          | 0/5 [00:00<?, ?it/s]"
      ]
     },
     "metadata": {},
     "output_type": "display_data"
    },
    {
     "data": {
      "application/vnd.jupyter.widget-view+json": {
       "model_id": "",
       "version_major": 2,
       "version_minor": 0
      },
      "text/plain": [
       "Processing Images:   0%|          | 0/5 [00:00<?, ?it/s]"
      ]
     },
     "metadata": {},
     "output_type": "display_data"
    },
    {
     "data": {
      "application/vnd.jupyter.widget-view+json": {
       "model_id": "",
       "version_major": 2,
       "version_minor": 0
      },
      "text/plain": [
       "Green Thresholds:   0%|          | 0/11 [00:00<?, ?it/s]"
      ]
     },
     "metadata": {},
     "output_type": "display_data"
    },
    {
     "data": {
      "application/vnd.jupyter.widget-view+json": {
       "model_id": "",
       "version_major": 2,
       "version_minor": 0
      },
      "text/plain": [
       "Processing Images:   0%|          | 0/5 [00:00<?, ?it/s]"
      ]
     },
     "metadata": {},
     "output_type": "display_data"
    },
    {
     "data": {
      "application/vnd.jupyter.widget-view+json": {
       "model_id": "",
       "version_major": 2,
       "version_minor": 0
      },
      "text/plain": [
       "Processing Images:   0%|          | 0/5 [00:00<?, ?it/s]"
      ]
     },
     "metadata": {},
     "output_type": "display_data"
    },
    {
     "data": {
      "application/vnd.jupyter.widget-view+json": {
       "model_id": "",
       "version_major": 2,
       "version_minor": 0
      },
      "text/plain": [
       "Processing Images:   0%|          | 0/5 [00:00<?, ?it/s]"
      ]
     },
     "metadata": {},
     "output_type": "display_data"
    },
    {
     "data": {
      "application/vnd.jupyter.widget-view+json": {
       "model_id": "",
       "version_major": 2,
       "version_minor": 0
      },
      "text/plain": [
       "Processing Images:   0%|          | 0/5 [00:00<?, ?it/s]"
      ]
     },
     "metadata": {},
     "output_type": "display_data"
    },
    {
     "data": {
      "application/vnd.jupyter.widget-view+json": {
       "model_id": "",
       "version_major": 2,
       "version_minor": 0
      },
      "text/plain": [
       "Processing Images:   0%|          | 0/5 [00:00<?, ?it/s]"
      ]
     },
     "metadata": {},
     "output_type": "display_data"
    },
    {
     "data": {
      "application/vnd.jupyter.widget-view+json": {
       "model_id": "",
       "version_major": 2,
       "version_minor": 0
      },
      "text/plain": [
       "Processing Images:   0%|          | 0/5 [00:00<?, ?it/s]"
      ]
     },
     "metadata": {},
     "output_type": "display_data"
    },
    {
     "data": {
      "application/vnd.jupyter.widget-view+json": {
       "model_id": "",
       "version_major": 2,
       "version_minor": 0
      },
      "text/plain": [
       "Processing Images:   0%|          | 0/5 [00:00<?, ?it/s]"
      ]
     },
     "metadata": {},
     "output_type": "display_data"
    },
    {
     "data": {
      "application/vnd.jupyter.widget-view+json": {
       "model_id": "",
       "version_major": 2,
       "version_minor": 0
      },
      "text/plain": [
       "Processing Images:   0%|          | 0/5 [00:00<?, ?it/s]"
      ]
     },
     "metadata": {},
     "output_type": "display_data"
    },
    {
     "data": {
      "application/vnd.jupyter.widget-view+json": {
       "model_id": "",
       "version_major": 2,
       "version_minor": 0
      },
      "text/plain": [
       "Processing Images:   0%|          | 0/5 [00:00<?, ?it/s]"
      ]
     },
     "metadata": {},
     "output_type": "display_data"
    },
    {
     "data": {
      "application/vnd.jupyter.widget-view+json": {
       "model_id": "",
       "version_major": 2,
       "version_minor": 0
      },
      "text/plain": [
       "Processing Images:   0%|          | 0/5 [00:00<?, ?it/s]"
      ]
     },
     "metadata": {},
     "output_type": "display_data"
    },
    {
     "data": {
      "application/vnd.jupyter.widget-view+json": {
       "model_id": "",
       "version_major": 2,
       "version_minor": 0
      },
      "text/plain": [
       "Processing Images:   0%|          | 0/5 [00:00<?, ?it/s]"
      ]
     },
     "metadata": {},
     "output_type": "display_data"
    },
    {
     "data": {
      "application/vnd.jupyter.widget-view+json": {
       "model_id": "",
       "version_major": 2,
       "version_minor": 0
      },
      "text/plain": [
       "Green Thresholds:   0%|          | 0/11 [00:00<?, ?it/s]"
      ]
     },
     "metadata": {},
     "output_type": "display_data"
    },
    {
     "data": {
      "application/vnd.jupyter.widget-view+json": {
       "model_id": "",
       "version_major": 2,
       "version_minor": 0
      },
      "text/plain": [
       "Processing Images:   0%|          | 0/5 [00:00<?, ?it/s]"
      ]
     },
     "metadata": {},
     "output_type": "display_data"
    },
    {
     "data": {
      "application/vnd.jupyter.widget-view+json": {
       "model_id": "",
       "version_major": 2,
       "version_minor": 0
      },
      "text/plain": [
       "Processing Images:   0%|          | 0/5 [00:00<?, ?it/s]"
      ]
     },
     "metadata": {},
     "output_type": "display_data"
    },
    {
     "data": {
      "application/vnd.jupyter.widget-view+json": {
       "model_id": "",
       "version_major": 2,
       "version_minor": 0
      },
      "text/plain": [
       "Processing Images:   0%|          | 0/5 [00:00<?, ?it/s]"
      ]
     },
     "metadata": {},
     "output_type": "display_data"
    },
    {
     "data": {
      "application/vnd.jupyter.widget-view+json": {
       "model_id": "",
       "version_major": 2,
       "version_minor": 0
      },
      "text/plain": [
       "Processing Images:   0%|          | 0/5 [00:00<?, ?it/s]"
      ]
     },
     "metadata": {},
     "output_type": "display_data"
    },
    {
     "data": {
      "application/vnd.jupyter.widget-view+json": {
       "model_id": "",
       "version_major": 2,
       "version_minor": 0
      },
      "text/plain": [
       "Processing Images:   0%|          | 0/5 [00:00<?, ?it/s]"
      ]
     },
     "metadata": {},
     "output_type": "display_data"
    },
    {
     "data": {
      "application/vnd.jupyter.widget-view+json": {
       "model_id": "",
       "version_major": 2,
       "version_minor": 0
      },
      "text/plain": [
       "Processing Images:   0%|          | 0/5 [00:00<?, ?it/s]"
      ]
     },
     "metadata": {},
     "output_type": "display_data"
    },
    {
     "data": {
      "application/vnd.jupyter.widget-view+json": {
       "model_id": "",
       "version_major": 2,
       "version_minor": 0
      },
      "text/plain": [
       "Processing Images:   0%|          | 0/5 [00:00<?, ?it/s]"
      ]
     },
     "metadata": {},
     "output_type": "display_data"
    },
    {
     "data": {
      "application/vnd.jupyter.widget-view+json": {
       "model_id": "",
       "version_major": 2,
       "version_minor": 0
      },
      "text/plain": [
       "Processing Images:   0%|          | 0/5 [00:00<?, ?it/s]"
      ]
     },
     "metadata": {},
     "output_type": "display_data"
    },
    {
     "data": {
      "application/vnd.jupyter.widget-view+json": {
       "model_id": "",
       "version_major": 2,
       "version_minor": 0
      },
      "text/plain": [
       "Processing Images:   0%|          | 0/5 [00:00<?, ?it/s]"
      ]
     },
     "metadata": {},
     "output_type": "display_data"
    },
    {
     "data": {
      "application/vnd.jupyter.widget-view+json": {
       "model_id": "",
       "version_major": 2,
       "version_minor": 0
      },
      "text/plain": [
       "Processing Images:   0%|          | 0/5 [00:00<?, ?it/s]"
      ]
     },
     "metadata": {},
     "output_type": "display_data"
    },
    {
     "data": {
      "application/vnd.jupyter.widget-view+json": {
       "model_id": "",
       "version_major": 2,
       "version_minor": 0
      },
      "text/plain": [
       "Processing Images:   0%|          | 0/5 [00:00<?, ?it/s]"
      ]
     },
     "metadata": {},
     "output_type": "display_data"
    },
    {
     "data": {
      "application/vnd.jupyter.widget-view+json": {
       "model_id": "",
       "version_major": 2,
       "version_minor": 0
      },
      "text/plain": [
       "Green Thresholds:   0%|          | 0/11 [00:00<?, ?it/s]"
      ]
     },
     "metadata": {},
     "output_type": "display_data"
    },
    {
     "data": {
      "application/vnd.jupyter.widget-view+json": {
       "model_id": "",
       "version_major": 2,
       "version_minor": 0
      },
      "text/plain": [
       "Processing Images:   0%|          | 0/5 [00:00<?, ?it/s]"
      ]
     },
     "metadata": {},
     "output_type": "display_data"
    },
    {
     "data": {
      "application/vnd.jupyter.widget-view+json": {
       "model_id": "",
       "version_major": 2,
       "version_minor": 0
      },
      "text/plain": [
       "Processing Images:   0%|          | 0/5 [00:00<?, ?it/s]"
      ]
     },
     "metadata": {},
     "output_type": "display_data"
    },
    {
     "data": {
      "application/vnd.jupyter.widget-view+json": {
       "model_id": "",
       "version_major": 2,
       "version_minor": 0
      },
      "text/plain": [
       "Processing Images:   0%|          | 0/5 [00:00<?, ?it/s]"
      ]
     },
     "metadata": {},
     "output_type": "display_data"
    },
    {
     "data": {
      "application/vnd.jupyter.widget-view+json": {
       "model_id": "",
       "version_major": 2,
       "version_minor": 0
      },
      "text/plain": [
       "Processing Images:   0%|          | 0/5 [00:00<?, ?it/s]"
      ]
     },
     "metadata": {},
     "output_type": "display_data"
    },
    {
     "data": {
      "application/vnd.jupyter.widget-view+json": {
       "model_id": "",
       "version_major": 2,
       "version_minor": 0
      },
      "text/plain": [
       "Processing Images:   0%|          | 0/5 [00:00<?, ?it/s]"
      ]
     },
     "metadata": {},
     "output_type": "display_data"
    },
    {
     "data": {
      "application/vnd.jupyter.widget-view+json": {
       "model_id": "",
       "version_major": 2,
       "version_minor": 0
      },
      "text/plain": [
       "Processing Images:   0%|          | 0/5 [00:00<?, ?it/s]"
      ]
     },
     "metadata": {},
     "output_type": "display_data"
    },
    {
     "data": {
      "application/vnd.jupyter.widget-view+json": {
       "model_id": "",
       "version_major": 2,
       "version_minor": 0
      },
      "text/plain": [
       "Processing Images:   0%|          | 0/5 [00:00<?, ?it/s]"
      ]
     },
     "metadata": {},
     "output_type": "display_data"
    },
    {
     "data": {
      "application/vnd.jupyter.widget-view+json": {
       "model_id": "",
       "version_major": 2,
       "version_minor": 0
      },
      "text/plain": [
       "Processing Images:   0%|          | 0/5 [00:00<?, ?it/s]"
      ]
     },
     "metadata": {},
     "output_type": "display_data"
    },
    {
     "data": {
      "application/vnd.jupyter.widget-view+json": {
       "model_id": "",
       "version_major": 2,
       "version_minor": 0
      },
      "text/plain": [
       "Processing Images:   0%|          | 0/5 [00:00<?, ?it/s]"
      ]
     },
     "metadata": {},
     "output_type": "display_data"
    },
    {
     "data": {
      "application/vnd.jupyter.widget-view+json": {
       "model_id": "",
       "version_major": 2,
       "version_minor": 0
      },
      "text/plain": [
       "Processing Images:   0%|          | 0/5 [00:00<?, ?it/s]"
      ]
     },
     "metadata": {},
     "output_type": "display_data"
    },
    {
     "data": {
      "application/vnd.jupyter.widget-view+json": {
       "model_id": "",
       "version_major": 2,
       "version_minor": 0
      },
      "text/plain": [
       "Processing Images:   0%|          | 0/5 [00:00<?, ?it/s]"
      ]
     },
     "metadata": {},
     "output_type": "display_data"
    },
    {
     "data": {
      "application/vnd.jupyter.widget-view+json": {
       "model_id": "",
       "version_major": 2,
       "version_minor": 0
      },
      "text/plain": [
       "Green Thresholds:   0%|          | 0/11 [00:00<?, ?it/s]"
      ]
     },
     "metadata": {},
     "output_type": "display_data"
    },
    {
     "data": {
      "application/vnd.jupyter.widget-view+json": {
       "model_id": "",
       "version_major": 2,
       "version_minor": 0
      },
      "text/plain": [
       "Processing Images:   0%|          | 0/5 [00:00<?, ?it/s]"
      ]
     },
     "metadata": {},
     "output_type": "display_data"
    },
    {
     "data": {
      "application/vnd.jupyter.widget-view+json": {
       "model_id": "",
       "version_major": 2,
       "version_minor": 0
      },
      "text/plain": [
       "Processing Images:   0%|          | 0/5 [00:00<?, ?it/s]"
      ]
     },
     "metadata": {},
     "output_type": "display_data"
    },
    {
     "data": {
      "application/vnd.jupyter.widget-view+json": {
       "model_id": "",
       "version_major": 2,
       "version_minor": 0
      },
      "text/plain": [
       "Processing Images:   0%|          | 0/5 [00:00<?, ?it/s]"
      ]
     },
     "metadata": {},
     "output_type": "display_data"
    },
    {
     "data": {
      "application/vnd.jupyter.widget-view+json": {
       "model_id": "",
       "version_major": 2,
       "version_minor": 0
      },
      "text/plain": [
       "Processing Images:   0%|          | 0/5 [00:00<?, ?it/s]"
      ]
     },
     "metadata": {},
     "output_type": "display_data"
    },
    {
     "data": {
      "application/vnd.jupyter.widget-view+json": {
       "model_id": "",
       "version_major": 2,
       "version_minor": 0
      },
      "text/plain": [
       "Processing Images:   0%|          | 0/5 [00:00<?, ?it/s]"
      ]
     },
     "metadata": {},
     "output_type": "display_data"
    },
    {
     "data": {
      "application/vnd.jupyter.widget-view+json": {
       "model_id": "",
       "version_major": 2,
       "version_minor": 0
      },
      "text/plain": [
       "Processing Images:   0%|          | 0/5 [00:00<?, ?it/s]"
      ]
     },
     "metadata": {},
     "output_type": "display_data"
    },
    {
     "data": {
      "application/vnd.jupyter.widget-view+json": {
       "model_id": "",
       "version_major": 2,
       "version_minor": 0
      },
      "text/plain": [
       "Processing Images:   0%|          | 0/5 [00:00<?, ?it/s]"
      ]
     },
     "metadata": {},
     "output_type": "display_data"
    },
    {
     "data": {
      "application/vnd.jupyter.widget-view+json": {
       "model_id": "",
       "version_major": 2,
       "version_minor": 0
      },
      "text/plain": [
       "Processing Images:   0%|          | 0/5 [00:00<?, ?it/s]"
      ]
     },
     "metadata": {},
     "output_type": "display_data"
    },
    {
     "data": {
      "application/vnd.jupyter.widget-view+json": {
       "model_id": "",
       "version_major": 2,
       "version_minor": 0
      },
      "text/plain": [
       "Processing Images:   0%|          | 0/5 [00:00<?, ?it/s]"
      ]
     },
     "metadata": {},
     "output_type": "display_data"
    },
    {
     "data": {
      "application/vnd.jupyter.widget-view+json": {
       "model_id": "",
       "version_major": 2,
       "version_minor": 0
      },
      "text/plain": [
       "Processing Images:   0%|          | 0/5 [00:00<?, ?it/s]"
      ]
     },
     "metadata": {},
     "output_type": "display_data"
    },
    {
     "data": {
      "application/vnd.jupyter.widget-view+json": {
       "model_id": "",
       "version_major": 2,
       "version_minor": 0
      },
      "text/plain": [
       "Processing Images:   0%|          | 0/5 [00:00<?, ?it/s]"
      ]
     },
     "metadata": {},
     "output_type": "display_data"
    },
    {
     "data": {
      "application/vnd.jupyter.widget-view+json": {
       "model_id": "",
       "version_major": 2,
       "version_minor": 0
      },
      "text/plain": [
       "Green Thresholds:   0%|          | 0/11 [00:00<?, ?it/s]"
      ]
     },
     "metadata": {},
     "output_type": "display_data"
    },
    {
     "data": {
      "application/vnd.jupyter.widget-view+json": {
       "model_id": "",
       "version_major": 2,
       "version_minor": 0
      },
      "text/plain": [
       "Processing Images:   0%|          | 0/5 [00:00<?, ?it/s]"
      ]
     },
     "metadata": {},
     "output_type": "display_data"
    },
    {
     "data": {
      "application/vnd.jupyter.widget-view+json": {
       "model_id": "",
       "version_major": 2,
       "version_minor": 0
      },
      "text/plain": [
       "Processing Images:   0%|          | 0/5 [00:00<?, ?it/s]"
      ]
     },
     "metadata": {},
     "output_type": "display_data"
    },
    {
     "data": {
      "application/vnd.jupyter.widget-view+json": {
       "model_id": "",
       "version_major": 2,
       "version_minor": 0
      },
      "text/plain": [
       "Processing Images:   0%|          | 0/5 [00:00<?, ?it/s]"
      ]
     },
     "metadata": {},
     "output_type": "display_data"
    },
    {
     "data": {
      "application/vnd.jupyter.widget-view+json": {
       "model_id": "",
       "version_major": 2,
       "version_minor": 0
      },
      "text/plain": [
       "Processing Images:   0%|          | 0/5 [00:00<?, ?it/s]"
      ]
     },
     "metadata": {},
     "output_type": "display_data"
    },
    {
     "data": {
      "application/vnd.jupyter.widget-view+json": {
       "model_id": "",
       "version_major": 2,
       "version_minor": 0
      },
      "text/plain": [
       "Processing Images:   0%|          | 0/5 [00:00<?, ?it/s]"
      ]
     },
     "metadata": {},
     "output_type": "display_data"
    },
    {
     "data": {
      "application/vnd.jupyter.widget-view+json": {
       "model_id": "",
       "version_major": 2,
       "version_minor": 0
      },
      "text/plain": [
       "Processing Images:   0%|          | 0/5 [00:00<?, ?it/s]"
      ]
     },
     "metadata": {},
     "output_type": "display_data"
    },
    {
     "data": {
      "application/vnd.jupyter.widget-view+json": {
       "model_id": "",
       "version_major": 2,
       "version_minor": 0
      },
      "text/plain": [
       "Processing Images:   0%|          | 0/5 [00:00<?, ?it/s]"
      ]
     },
     "metadata": {},
     "output_type": "display_data"
    },
    {
     "data": {
      "application/vnd.jupyter.widget-view+json": {
       "model_id": "",
       "version_major": 2,
       "version_minor": 0
      },
      "text/plain": [
       "Processing Images:   0%|          | 0/5 [00:00<?, ?it/s]"
      ]
     },
     "metadata": {},
     "output_type": "display_data"
    },
    {
     "data": {
      "application/vnd.jupyter.widget-view+json": {
       "model_id": "",
       "version_major": 2,
       "version_minor": 0
      },
      "text/plain": [
       "Processing Images:   0%|          | 0/5 [00:00<?, ?it/s]"
      ]
     },
     "metadata": {},
     "output_type": "display_data"
    },
    {
     "data": {
      "application/vnd.jupyter.widget-view+json": {
       "model_id": "",
       "version_major": 2,
       "version_minor": 0
      },
      "text/plain": [
       "Processing Images:   0%|          | 0/5 [00:00<?, ?it/s]"
      ]
     },
     "metadata": {},
     "output_type": "display_data"
    },
    {
     "data": {
      "application/vnd.jupyter.widget-view+json": {
       "model_id": "",
       "version_major": 2,
       "version_minor": 0
      },
      "text/plain": [
       "Processing Images:   0%|          | 0/5 [00:00<?, ?it/s]"
      ]
     },
     "metadata": {},
     "output_type": "display_data"
    },
    {
     "data": {
      "application/vnd.jupyter.widget-view+json": {
       "model_id": "",
       "version_major": 2,
       "version_minor": 0
      },
      "text/plain": [
       "Green Thresholds:   0%|          | 0/11 [00:00<?, ?it/s]"
      ]
     },
     "metadata": {},
     "output_type": "display_data"
    },
    {
     "data": {
      "application/vnd.jupyter.widget-view+json": {
       "model_id": "",
       "version_major": 2,
       "version_minor": 0
      },
      "text/plain": [
       "Processing Images:   0%|          | 0/5 [00:00<?, ?it/s]"
      ]
     },
     "metadata": {},
     "output_type": "display_data"
    },
    {
     "data": {
      "application/vnd.jupyter.widget-view+json": {
       "model_id": "",
       "version_major": 2,
       "version_minor": 0
      },
      "text/plain": [
       "Processing Images:   0%|          | 0/5 [00:00<?, ?it/s]"
      ]
     },
     "metadata": {},
     "output_type": "display_data"
    },
    {
     "data": {
      "application/vnd.jupyter.widget-view+json": {
       "model_id": "",
       "version_major": 2,
       "version_minor": 0
      },
      "text/plain": [
       "Processing Images:   0%|          | 0/5 [00:00<?, ?it/s]"
      ]
     },
     "metadata": {},
     "output_type": "display_data"
    },
    {
     "data": {
      "application/vnd.jupyter.widget-view+json": {
       "model_id": "",
       "version_major": 2,
       "version_minor": 0
      },
      "text/plain": [
       "Processing Images:   0%|          | 0/5 [00:00<?, ?it/s]"
      ]
     },
     "metadata": {},
     "output_type": "display_data"
    },
    {
     "data": {
      "application/vnd.jupyter.widget-view+json": {
       "model_id": "",
       "version_major": 2,
       "version_minor": 0
      },
      "text/plain": [
       "Processing Images:   0%|          | 0/5 [00:00<?, ?it/s]"
      ]
     },
     "metadata": {},
     "output_type": "display_data"
    },
    {
     "data": {
      "application/vnd.jupyter.widget-view+json": {
       "model_id": "",
       "version_major": 2,
       "version_minor": 0
      },
      "text/plain": [
       "Processing Images:   0%|          | 0/5 [00:00<?, ?it/s]"
      ]
     },
     "metadata": {},
     "output_type": "display_data"
    },
    {
     "data": {
      "application/vnd.jupyter.widget-view+json": {
       "model_id": "",
       "version_major": 2,
       "version_minor": 0
      },
      "text/plain": [
       "Processing Images:   0%|          | 0/5 [00:00<?, ?it/s]"
      ]
     },
     "metadata": {},
     "output_type": "display_data"
    },
    {
     "data": {
      "application/vnd.jupyter.widget-view+json": {
       "model_id": "",
       "version_major": 2,
       "version_minor": 0
      },
      "text/plain": [
       "Processing Images:   0%|          | 0/5 [00:00<?, ?it/s]"
      ]
     },
     "metadata": {},
     "output_type": "display_data"
    },
    {
     "data": {
      "application/vnd.jupyter.widget-view+json": {
       "model_id": "",
       "version_major": 2,
       "version_minor": 0
      },
      "text/plain": [
       "Processing Images:   0%|          | 0/5 [00:00<?, ?it/s]"
      ]
     },
     "metadata": {},
     "output_type": "display_data"
    },
    {
     "data": {
      "application/vnd.jupyter.widget-view+json": {
       "model_id": "",
       "version_major": 2,
       "version_minor": 0
      },
      "text/plain": [
       "Processing Images:   0%|          | 0/5 [00:00<?, ?it/s]"
      ]
     },
     "metadata": {},
     "output_type": "display_data"
    },
    {
     "data": {
      "application/vnd.jupyter.widget-view+json": {
       "model_id": "",
       "version_major": 2,
       "version_minor": 0
      },
      "text/plain": [
       "Processing Images:   0%|          | 0/5 [00:00<?, ?it/s]"
      ]
     },
     "metadata": {},
     "output_type": "display_data"
    },
    {
     "data": {
      "application/vnd.jupyter.widget-view+json": {
       "model_id": "",
       "version_major": 2,
       "version_minor": 0
      },
      "text/plain": [
       "Green Thresholds:   0%|          | 0/11 [00:00<?, ?it/s]"
      ]
     },
     "metadata": {},
     "output_type": "display_data"
    },
    {
     "data": {
      "application/vnd.jupyter.widget-view+json": {
       "model_id": "",
       "version_major": 2,
       "version_minor": 0
      },
      "text/plain": [
       "Processing Images:   0%|          | 0/5 [00:00<?, ?it/s]"
      ]
     },
     "metadata": {},
     "output_type": "display_data"
    },
    {
     "data": {
      "application/vnd.jupyter.widget-view+json": {
       "model_id": "",
       "version_major": 2,
       "version_minor": 0
      },
      "text/plain": [
       "Processing Images:   0%|          | 0/5 [00:00<?, ?it/s]"
      ]
     },
     "metadata": {},
     "output_type": "display_data"
    },
    {
     "data": {
      "application/vnd.jupyter.widget-view+json": {
       "model_id": "",
       "version_major": 2,
       "version_minor": 0
      },
      "text/plain": [
       "Processing Images:   0%|          | 0/5 [00:00<?, ?it/s]"
      ]
     },
     "metadata": {},
     "output_type": "display_data"
    },
    {
     "data": {
      "application/vnd.jupyter.widget-view+json": {
       "model_id": "",
       "version_major": 2,
       "version_minor": 0
      },
      "text/plain": [
       "Processing Images:   0%|          | 0/5 [00:00<?, ?it/s]"
      ]
     },
     "metadata": {},
     "output_type": "display_data"
    },
    {
     "data": {
      "application/vnd.jupyter.widget-view+json": {
       "model_id": "",
       "version_major": 2,
       "version_minor": 0
      },
      "text/plain": [
       "Processing Images:   0%|          | 0/5 [00:00<?, ?it/s]"
      ]
     },
     "metadata": {},
     "output_type": "display_data"
    },
    {
     "data": {
      "application/vnd.jupyter.widget-view+json": {
       "model_id": "",
       "version_major": 2,
       "version_minor": 0
      },
      "text/plain": [
       "Processing Images:   0%|          | 0/5 [00:00<?, ?it/s]"
      ]
     },
     "metadata": {},
     "output_type": "display_data"
    },
    {
     "data": {
      "application/vnd.jupyter.widget-view+json": {
       "model_id": "",
       "version_major": 2,
       "version_minor": 0
      },
      "text/plain": [
       "Processing Images:   0%|          | 0/5 [00:00<?, ?it/s]"
      ]
     },
     "metadata": {},
     "output_type": "display_data"
    },
    {
     "data": {
      "application/vnd.jupyter.widget-view+json": {
       "model_id": "",
       "version_major": 2,
       "version_minor": 0
      },
      "text/plain": [
       "Processing Images:   0%|          | 0/5 [00:00<?, ?it/s]"
      ]
     },
     "metadata": {},
     "output_type": "display_data"
    },
    {
     "data": {
      "application/vnd.jupyter.widget-view+json": {
       "model_id": "",
       "version_major": 2,
       "version_minor": 0
      },
      "text/plain": [
       "Processing Images:   0%|          | 0/5 [00:00<?, ?it/s]"
      ]
     },
     "metadata": {},
     "output_type": "display_data"
    },
    {
     "data": {
      "application/vnd.jupyter.widget-view+json": {
       "model_id": "",
       "version_major": 2,
       "version_minor": 0
      },
      "text/plain": [
       "Processing Images:   0%|          | 0/5 [00:00<?, ?it/s]"
      ]
     },
     "metadata": {},
     "output_type": "display_data"
    },
    {
     "data": {
      "application/vnd.jupyter.widget-view+json": {
       "model_id": "",
       "version_major": 2,
       "version_minor": 0
      },
      "text/plain": [
       "Processing Images:   0%|          | 0/5 [00:00<?, ?it/s]"
      ]
     },
     "metadata": {},
     "output_type": "display_data"
    },
    {
     "data": {
      "application/vnd.jupyter.widget-view+json": {
       "model_id": "",
       "version_major": 2,
       "version_minor": 0
      },
      "text/plain": [
       "Green Thresholds:   0%|          | 0/11 [00:00<?, ?it/s]"
      ]
     },
     "metadata": {},
     "output_type": "display_data"
    },
    {
     "data": {
      "application/vnd.jupyter.widget-view+json": {
       "model_id": "",
       "version_major": 2,
       "version_minor": 0
      },
      "text/plain": [
       "Processing Images:   0%|          | 0/5 [00:00<?, ?it/s]"
      ]
     },
     "metadata": {},
     "output_type": "display_data"
    },
    {
     "data": {
      "application/vnd.jupyter.widget-view+json": {
       "model_id": "",
       "version_major": 2,
       "version_minor": 0
      },
      "text/plain": [
       "Processing Images:   0%|          | 0/5 [00:00<?, ?it/s]"
      ]
     },
     "metadata": {},
     "output_type": "display_data"
    },
    {
     "data": {
      "application/vnd.jupyter.widget-view+json": {
       "model_id": "",
       "version_major": 2,
       "version_minor": 0
      },
      "text/plain": [
       "Processing Images:   0%|          | 0/5 [00:00<?, ?it/s]"
      ]
     },
     "metadata": {},
     "output_type": "display_data"
    },
    {
     "data": {
      "application/vnd.jupyter.widget-view+json": {
       "model_id": "",
       "version_major": 2,
       "version_minor": 0
      },
      "text/plain": [
       "Processing Images:   0%|          | 0/5 [00:00<?, ?it/s]"
      ]
     },
     "metadata": {},
     "output_type": "display_data"
    },
    {
     "data": {
      "application/vnd.jupyter.widget-view+json": {
       "model_id": "",
       "version_major": 2,
       "version_minor": 0
      },
      "text/plain": [
       "Processing Images:   0%|          | 0/5 [00:00<?, ?it/s]"
      ]
     },
     "metadata": {},
     "output_type": "display_data"
    },
    {
     "data": {
      "application/vnd.jupyter.widget-view+json": {
       "model_id": "",
       "version_major": 2,
       "version_minor": 0
      },
      "text/plain": [
       "Processing Images:   0%|          | 0/5 [00:00<?, ?it/s]"
      ]
     },
     "metadata": {},
     "output_type": "display_data"
    },
    {
     "data": {
      "application/vnd.jupyter.widget-view+json": {
       "model_id": "",
       "version_major": 2,
       "version_minor": 0
      },
      "text/plain": [
       "Processing Images:   0%|          | 0/5 [00:00<?, ?it/s]"
      ]
     },
     "metadata": {},
     "output_type": "display_data"
    },
    {
     "data": {
      "application/vnd.jupyter.widget-view+json": {
       "model_id": "",
       "version_major": 2,
       "version_minor": 0
      },
      "text/plain": [
       "Processing Images:   0%|          | 0/5 [00:00<?, ?it/s]"
      ]
     },
     "metadata": {},
     "output_type": "display_data"
    },
    {
     "data": {
      "application/vnd.jupyter.widget-view+json": {
       "model_id": "",
       "version_major": 2,
       "version_minor": 0
      },
      "text/plain": [
       "Processing Images:   0%|          | 0/5 [00:00<?, ?it/s]"
      ]
     },
     "metadata": {},
     "output_type": "display_data"
    },
    {
     "data": {
      "application/vnd.jupyter.widget-view+json": {
       "model_id": "",
       "version_major": 2,
       "version_minor": 0
      },
      "text/plain": [
       "Processing Images:   0%|          | 0/5 [00:00<?, ?it/s]"
      ]
     },
     "metadata": {},
     "output_type": "display_data"
    },
    {
     "data": {
      "application/vnd.jupyter.widget-view+json": {
       "model_id": "",
       "version_major": 2,
       "version_minor": 0
      },
      "text/plain": [
       "Processing Images:   0%|          | 0/5 [00:00<?, ?it/s]"
      ]
     },
     "metadata": {},
     "output_type": "display_data"
    },
    {
     "data": {
      "application/vnd.jupyter.widget-view+json": {
       "model_id": "",
       "version_major": 2,
       "version_minor": 0
      },
      "text/plain": [
       "Green Thresholds:   0%|          | 0/11 [00:00<?, ?it/s]"
      ]
     },
     "metadata": {},
     "output_type": "display_data"
    },
    {
     "data": {
      "application/vnd.jupyter.widget-view+json": {
       "model_id": "",
       "version_major": 2,
       "version_minor": 0
      },
      "text/plain": [
       "Processing Images:   0%|          | 0/5 [00:00<?, ?it/s]"
      ]
     },
     "metadata": {},
     "output_type": "display_data"
    },
    {
     "data": {
      "application/vnd.jupyter.widget-view+json": {
       "model_id": "",
       "version_major": 2,
       "version_minor": 0
      },
      "text/plain": [
       "Processing Images:   0%|          | 0/5 [00:00<?, ?it/s]"
      ]
     },
     "metadata": {},
     "output_type": "display_data"
    },
    {
     "data": {
      "application/vnd.jupyter.widget-view+json": {
       "model_id": "",
       "version_major": 2,
       "version_minor": 0
      },
      "text/plain": [
       "Processing Images:   0%|          | 0/5 [00:00<?, ?it/s]"
      ]
     },
     "metadata": {},
     "output_type": "display_data"
    },
    {
     "data": {
      "application/vnd.jupyter.widget-view+json": {
       "model_id": "",
       "version_major": 2,
       "version_minor": 0
      },
      "text/plain": [
       "Processing Images:   0%|          | 0/5 [00:00<?, ?it/s]"
      ]
     },
     "metadata": {},
     "output_type": "display_data"
    },
    {
     "data": {
      "application/vnd.jupyter.widget-view+json": {
       "model_id": "",
       "version_major": 2,
       "version_minor": 0
      },
      "text/plain": [
       "Processing Images:   0%|          | 0/5 [00:00<?, ?it/s]"
      ]
     },
     "metadata": {},
     "output_type": "display_data"
    },
    {
     "data": {
      "application/vnd.jupyter.widget-view+json": {
       "model_id": "",
       "version_major": 2,
       "version_minor": 0
      },
      "text/plain": [
       "Processing Images:   0%|          | 0/5 [00:00<?, ?it/s]"
      ]
     },
     "metadata": {},
     "output_type": "display_data"
    },
    {
     "data": {
      "application/vnd.jupyter.widget-view+json": {
       "model_id": "",
       "version_major": 2,
       "version_minor": 0
      },
      "text/plain": [
       "Processing Images:   0%|          | 0/5 [00:00<?, ?it/s]"
      ]
     },
     "metadata": {},
     "output_type": "display_data"
    },
    {
     "data": {
      "application/vnd.jupyter.widget-view+json": {
       "model_id": "",
       "version_major": 2,
       "version_minor": 0
      },
      "text/plain": [
       "Processing Images:   0%|          | 0/5 [00:00<?, ?it/s]"
      ]
     },
     "metadata": {},
     "output_type": "display_data"
    },
    {
     "data": {
      "application/vnd.jupyter.widget-view+json": {
       "model_id": "",
       "version_major": 2,
       "version_minor": 0
      },
      "text/plain": [
       "Processing Images:   0%|          | 0/5 [00:00<?, ?it/s]"
      ]
     },
     "metadata": {},
     "output_type": "display_data"
    },
    {
     "data": {
      "application/vnd.jupyter.widget-view+json": {
       "model_id": "",
       "version_major": 2,
       "version_minor": 0
      },
      "text/plain": [
       "Processing Images:   0%|          | 0/5 [00:00<?, ?it/s]"
      ]
     },
     "metadata": {},
     "output_type": "display_data"
    },
    {
     "data": {
      "application/vnd.jupyter.widget-view+json": {
       "model_id": "",
       "version_major": 2,
       "version_minor": 0
      },
      "text/plain": [
       "Processing Images:   0%|          | 0/5 [00:00<?, ?it/s]"
      ]
     },
     "metadata": {},
     "output_type": "display_data"
    },
    {
     "name": "stdout",
     "output_type": "stream",
     "text": [
      "Minimum error value: 1351.0\n",
      "Maximum sum of thresholds: 96\n",
      "Corresponding red_thresh and green_thresh: (62, 34)\n"
     ]
    }
   ],
   "source": [
    "#use only a subset of images to find thresholds\n",
    "\n",
    "import os\n",
    "import numpy as np\n",
    "import pandas as pd\n",
    "from PIL import Image\n",
    "from tqdm.notebook import tqdm  # Import tqdm for progress tracking\n",
    "import random\n",
    "import shutil\n",
    "\n",
    "# Define the original folder paths\n",
    "#original_folder_path_in = ''\n",
    "#original_folder_path_out = ''\n",
    "\n",
    "# Create new folder paths\n",
    "#new_folder_path_in = ''\n",
    "#new_folder_path_out = ''\n",
    "\n",
    "# Create new directories\n",
    "os.makedirs(new_folder_path_in, exist_ok=True)\n",
    "os.makedirs(new_folder_path_out, exist_ok=True)\n",
    "\n",
    "# Select a random subset of 5 images\n",
    "input_tif_files = sorted([f for f in os.listdir(original_folder_path_in) if f.endswith('.tif')])\n",
    "output_tif_files = sorted([f for f in os.listdir(original_folder_path_out) if f.endswith('.tif')])\n",
    "\n",
    "random_subset_input = random.sample(input_tif_files, 5)\n",
    "random_subset_output = random.sample(output_tif_files, 5)\n",
    "\n",
    "# Copy the selected images to the new directories\n",
    "for img in random_subset_input:\n",
    "    shutil.copy(os.path.join(original_folder_path_in, img), new_folder_path_in)\n",
    "\n",
    "for img in random_subset_output:\n",
    "    shutil.copy(os.path.join(original_folder_path_out, img), new_folder_path_out)\n",
    "\n",
    "# Set the new range for thresholds\n",
    "red_thresh_list = list(range(62, 73, 1))  # 62 to 72 (inclusive)\n",
    "green_thresh_list = list(range(34, 45, 1))  # 34 to 44 (inclusive)\n",
    "blue_thresh = 20\n",
    "\n",
    "# Initialize variables\n",
    "errors = []\n",
    "threshs = []\n",
    "error = 0\n",
    "\n",
    "# New input/output file lists\n",
    "input_tif_files = sorted([f for f in os.listdir(new_folder_path_in) if f.endswith('.tif')])\n",
    "output_tif_files = sorted([f for f in os.listdir(new_folder_path_out) if f.endswith('.tif')])\n",
    "\n",
    "# Load true values from the CSV file\n",
    "df = pd.read_csv('/work/users/d/p/dpguilba/FISH/2170_control_summary_names.csv')\n",
    "true_greens = df['Actual MYC'][:5]  # Assuming you have enough entries\n",
    "true_reds = df['Actual ERBB2'][:5]\n",
    "true_red_greens = df['Actual MYC+ERBB2'][:5]\n",
    "\n",
    "for redT in tqdm(red_thresh_list, desc='Red Thresholds'):\n",
    "    for greenT in tqdm(green_thresh_list, desc='Green Thresholds', leave=False):\n",
    "        red_thresh = redT\n",
    "        green_thresh = greenT\n",
    "        \n",
    "        # Initialize current index for the images\n",
    "        current_index = 0\n",
    "\n",
    "        # Progress bar for the image processing loop\n",
    "        with tqdm(total=len(input_tif_files), desc='Processing Images', leave=False) as pbar:\n",
    "            for input_tif_file, output_tif_file in zip(input_tif_files, output_tif_files):\n",
    "                input_tif_file_path = os.path.join(new_folder_path_in, input_tif_file)\n",
    "                output_tif_file_path = os.path.join(new_folder_path_out, output_tif_file)\n",
    "                \n",
    "                input_tif_image = Image.open(input_tif_file_path)\n",
    "                inarray = np.array(input_tif_image)\n",
    "                \n",
    "                output_tif_image = Image.open(output_tif_file_path)\n",
    "                outarray = np.array(output_tif_image)\n",
    "                \n",
    "                outarray, mult_red, mult_green, mult_blue = mask(outarray, inarray)\n",
    "\n",
    "                structure = np.ones((3, 3), dtype=int)\n",
    "                labeled_out, num_comp = label(outarray, structure)\n",
    "\n",
    "                comps, comp_red, comp_green, comp_blue = isolate_comps(num_comp, outarray, mult_red, mult_green, mult_blue, labeled_out)\n",
    "            \n",
    "                red_count, green_count, blue_count, red_green_count = count(num_comp, comp_red, comp_green, comp_blue, red_thresh, green_thresh, blue_thresh)\n",
    "                \n",
    "                true_red = true_reds[current_index]\n",
    "                true_green = true_greens[current_index]\n",
    "                true_red_green = true_red_greens[current_index]\n",
    "                current_index += 1\n",
    "                \n",
    "                error += abs(true_red - red_count) + abs(true_green - green_count) + abs(true_red_green - red_green_count)\n",
    "\n",
    "                pbar.update(1)  # Update the progress bar for each processed image\n",
    "\n",
    "        # Store errors and thresholds\n",
    "        errors.append(error)\n",
    "        threshs.append([red_thresh, green_thresh])\n",
    "\n",
    "min_value = min(errors)\n",
    "#print(min_value)\n",
    "min_index = errors.index(min_value)\n",
    "thresh_min = threshs[min_index]\n",
    "#print(thresh_min)\n",
    "\n",
    "# Find the minimum value in the errors list\n",
    "min_value = min(errors)\n",
    "\n",
    "# Get the indices of the minimum value in the errors list\n",
    "min_indices = [index for index, value in enumerate(errors) if value == min_value]\n",
    "\n",
    "# Initialize max sum and corresponding thresh\n",
    "max_sum = float('-inf')\n",
    "best_thresh = None\n",
    "\n",
    "# Iterate through the corresponding threshs for the minimum error indices\n",
    "for i in min_indices:\n",
    "    red_thresh, green_thresh = threshs[i]\n",
    "    current_sum = red_thresh + green_thresh\n",
    "    \n",
    "    # Update if current sum is greater than max_sum\n",
    "    if current_sum > max_sum:\n",
    "        max_sum = current_sum\n",
    "        best_thresh = (red_thresh, green_thresh)\n",
    "\n",
    "# Output the results\n",
    "print(\"Minimum error value:\", min_value)\n",
    "print(\"Maximum sum of thresholds:\", max_sum)\n",
    "print(\"Corresponding red_thresh and green_thresh:\", best_thresh)"
   ]
  },
  {
   "cell_type": "code",
   "execution_count": 7,
   "id": "f1d76896-60c3-482f-a190-eb0645b527c3",
   "metadata": {},
   "outputs": [],
   "source": [
    "#these thresholds represent a bare minimum to be counted as a true signal. Anything less can be considered noise\n",
    "\n",
    "red_thresh, green_thresh = best_thresh\n",
    "blue_thresh = 20"
   ]
  },
  {
   "cell_type": "code",
   "execution_count": 12,
   "id": "665a7985-5530-48e1-b327-56d31ba80033",
   "metadata": {},
   "outputs": [
    {
     "data": {
      "text/plain": [
       "34"
      ]
     },
     "execution_count": 12,
     "metadata": {},
     "output_type": "execute_result"
    }
   ],
   "source": [
    "red_thresh=62, green_thresh = 34"
   ]
  },
  {
   "cell_type": "code",
   "execution_count": 16,
   "id": "5e2b8b6c-c4b9-47f0-9860-b5b0065657ff",
   "metadata": {},
   "outputs": [
    {
     "name": "stdout",
     "output_type": "stream",
     "text": [
      "Number of ecDNA with red: 1\n",
      "Number of ecDNA with green: 3\n",
      "Number of ecDNA with blue: 91\n",
      "Number of ecDNA with red and green: 98\n"
     ]
    }
   ],
   "source": [
    "#test one image, dont need to\n",
    "\n",
    "#im = Image.open('') #(2048,2448) mask of 0s and 255s, output from MIA\n",
    "outarray = np.array(im)\n",
    "\n",
    "#im = Image.open('') #(2048,2448,3) rgb input image\n",
    "inarray = np.array(im)\n",
    "\n",
    "outarray, mult_red, mult_green, mult_blue = mask(outarray,inarray)\n",
    "\n",
    "structure = np.ones((3, 3), dtype=int)\n",
    "labeled_out, num_comp = label(outarray,structure)\n",
    "\n",
    "comps,comp_red,comp_green,comp_blue = isolate_comps(num_comp,outarray,mult_red, mult_green, mult_blue,labeled_out)\n",
    "\n",
    "red_count,green_count,blue_count,red_green_count = count(num_comp,comp_red,comp_green,comp_blue,red_thresh,green_thresh,blue_thresh)\n",
    "\n",
    "print(f\"Number of ecDNA with red: {red_count}\")\n",
    "print(f\"Number of ecDNA with green: {green_count}\")\n",
    "print(f\"Number of ecDNA with blue: {blue_count}\")\n",
    "print(f\"Number of ecDNA with red and green: {red_green_count}\")"
   ]
  },
  {
   "cell_type": "code",
   "execution_count": 8,
   "id": "d55aef37-fb09-439c-8d52-d380b942966e",
   "metadata": {},
   "outputs": [],
   "source": [
    "#generate probe predictions for control\n",
    "\n",
    "#folder_path_out = ''\n",
    "#folder_path_in = '' #not npz, just input images with all 3 channels\n",
    "\n",
    "tif_files = [f for f in os.listdir(folder_path_in) if f.lower().endswith('.tif')]\n",
    "\n",
    "input_tif_files = sorted([f for f in os.listdir(folder_path_in) if f.endswith('.tif')])\n",
    "output_tif_files = sorted([f for f in os.listdir(folder_path_out) if f.endswith('.tif')])\n",
    "\n",
    "columns = ['Image name','red_count','green_count','blue_count','red_green_count']\n",
    "df = pd.DataFrame(columns=columns)\n",
    "rows = []\n",
    "\n",
    "for input_tif_file, output_tif_file in zip(input_tif_files, output_tif_files):\n",
    "    \n",
    "    input_tif_file_path = os.path.join(folder_path_in, input_tif_file)\n",
    "    output_tif_file_path = os.path.join(folder_path_out, output_tif_file)\n",
    "    \n",
    "    tif_file_name = os.path.basename(input_tif_file)\n",
    "    \n",
    "    input_tif_image = Image.open(input_tif_file_path)\n",
    "    inarray = np.array(input_tif_image) #(2048,2448,3)\n",
    "    \n",
    "    output_tif_image = Image.open(output_tif_file_path)\n",
    "    outarray = np.array(output_tif_image) #(2048,2448) all 0s and 1s\n",
    "    \n",
    "    outarray, mult_red, mult_green, mult_blue = mask(outarray,inarray)\n",
    "\n",
    "    structure = np.ones((3, 3), dtype=int)\n",
    "    labeled_out, num_comp = label(outarray,structure)\n",
    "\n",
    "    comps,comp_red,comp_green,comp_blue = isolate_comps(num_comp,outarray,mult_red, mult_green, mult_blue,labeled_out)\n",
    "\n",
    "    red_count,green_count,blue_count,red_green_count = count(num_comp,comp_red,comp_green,comp_blue,red_thresh,green_thresh,blue_thresh)\n",
    "    \n",
    "    data = [tif_file_name,red_count,green_count,blue_count,red_green_count]\n",
    "    row_df = pd.DataFrame([data], columns=columns)\n",
    "    rows.append(row_df)\n",
    "    df = pd.concat(rows, ignore_index=True)\n",
    "    df.to_csv('FISH_data_2170_control_gt.csv', index=False)\n",
    "    \n",
    "        "
   ]
  },
  {
   "cell_type": "code",
   "execution_count": 9,
   "id": "bcf350f0-1f88-4732-a928-a247af6b7422",
   "metadata": {},
   "outputs": [],
   "source": [
    "#generate probe predictions for jq1\n",
    "\n",
    "#folder_path_out = ''\n",
    "#folder_path_in = '' #not npz, just input images with all 3 channels\n",
    "\n",
    "tif_files = [f for f in os.listdir(folder_path_in) if f.lower().endswith('.tif')]\n",
    "\n",
    "input_tif_files = sorted([f for f in os.listdir(folder_path_in) if f.endswith('.tif')])\n",
    "output_tif_files = sorted([f for f in os.listdir(folder_path_out) if f.endswith('.tif')])\n",
    "\n",
    "columns = ['Image name','red_count','green_count','blue_count','red_green_count']\n",
    "df = pd.DataFrame(columns=columns)\n",
    "rows = []\n",
    "\n",
    "for input_tif_file, output_tif_file in zip(input_tif_files, output_tif_files):\n",
    "    \n",
    "    input_tif_file_path = os.path.join(folder_path_in, input_tif_file)\n",
    "    output_tif_file_path = os.path.join(folder_path_out, output_tif_file)\n",
    "    \n",
    "    tif_file_name = os.path.basename(input_tif_file)\n",
    "    \n",
    "    input_tif_image = Image.open(input_tif_file_path)\n",
    "    inarray = np.array(input_tif_image) #(2048,2448,3)\n",
    "    \n",
    "    output_tif_image = Image.open(output_tif_file_path)\n",
    "    outarray = np.array(output_tif_image) #(2048,2448) all 0s and 1s\n",
    "    \n",
    "    outarray, mult_red, mult_green, mult_blue = mask(outarray,inarray)\n",
    "\n",
    "    structure = np.ones((3, 3), dtype=int)\n",
    "    labeled_out, num_comp = label(outarray,structure)\n",
    "\n",
    "    comps,comp_red,comp_green,comp_blue = isolate_comps(num_comp,outarray,mult_red, mult_green, mult_blue,labeled_out)\n",
    "\n",
    "    red_count,green_count,blue_count,red_green_count = count(num_comp,comp_red,comp_green,comp_blue,red_thresh,green_thresh,blue_thresh)\n",
    "    \n",
    "    data = [tif_file_name,red_count,green_count,blue_count,red_green_count]\n",
    "    row_df = pd.DataFrame([data], columns=columns)\n",
    "    rows.append(row_df)\n",
    "    df = pd.concat(rows, ignore_index=True)\n",
    "    df.to_csv('FISH_data_2170_jq1_gt.csv', index=False)"
   ]
  },
  {
   "cell_type": "code",
   "execution_count": 13,
   "id": "bf110404-b8ed-4680-92cf-94dccab098cb",
   "metadata": {},
   "outputs": [
    {
     "name": "stdout",
     "output_type": "stream",
     "text": [
      "Columns in merged_df:\n",
      "['Image name', 'red_count', 'green_count', 'blue_count', 'red_green_count', 'Site', 'Desc', 'MYC+', 'ERBB2+', 'MYC+ERBB2+ ', 'Unlabeled', 'Total_ecDNA', 'HSR', 'multimers', 'Comments', 'Generated by']\n",
      "The 'summary.csv' file has been created.\n"
     ]
    }
   ],
   "source": [
    "#generate summary files for control\n",
    "\n",
    "import pandas as pd\n",
    "import re\n",
    "import os\n",
    "\n",
    "# Load the CSV files\n",
    "#jq1_df = pd.read_csv('')\n",
    "#control_df = pd.read_csv('')\n",
    "#ecDNA_df = pd.read_csv('')\n",
    "\n",
    "# Step 1: Filter ecDNA_df to include only rows where 'Desc' contains 'JQ1_IC50_24h'  '2170_control'\n",
    "#filtered_ecDNA_df = ecDNA_df[ecDNA_df['Desc'].str.contains('JQ1_IC50_24h', na=False)].copy()\n",
    "filtered_ecDNA_df = ecDNA_df[ecDNA_df['Desc'].str.contains('2170_control', na=False)].copy()\n",
    "\n",
    "#prefix = ''\n",
    "\n",
    "\n",
    "# Step 2: Extract 'Site' from 'Image name' in jq1_df\n",
    "def extract_site(image_name):\n",
    "    base_name = image_name.split(prefix)[-1]\n",
    "    name, ext = os.path.splitext(base_name)\n",
    "    # match = re.search(r'NCIH2170_JC_JQ1_IC50_24h_(\\d+)_Merge', image_name)\n",
    "    # return str(match.group(1)) if match else None\n",
    "    return name\n",
    "\n",
    "#jq1_df['Site'] = jq1_df['Image name'].apply(extract_site)\n",
    "control_df['Site'] = control_df['Image name'].apply(extract_site)\n",
    "\n",
    "\n",
    "\n",
    "# Step 3: Extract 'Site' values from 'Desc' in filtered_ecDNA_df\n",
    "#filtered_ecDNA_df['Site'] = filtered_ecDNA_df['Desc'].str.extract(r'NCIH2170_JC_JQ1_IC50_24h_(\\d+)_Merge')[0]\n",
    "\n",
    "# Convert 'Site' columns to strings\n",
    "#jq1_df['Site'] = jq1_df['Site'].astype(str)\n",
    "control_df['Site'] = control_df['Site'].astype(str)\n",
    "filtered_ecDNA_df['Site'] = filtered_ecDNA_df['Site'].astype(str)\n",
    "\n",
    "# Step 4: Merge jq1_df with filtered_ecDNA_df based on 'Site'\n",
    "#merged_df = pd.merge(jq1_df, filtered_ecDNA_df, left_on='Site', right_on='Site')\n",
    "merged_df = pd.merge(control_df, filtered_ecDNA_df, left_on='Site', right_on='Site')\n",
    "\n",
    "# Print the column names in merged_df to check for discrepancies\n",
    "print(\"Columns in merged_df:\")\n",
    "print(merged_df.columns.tolist())\n",
    "\n",
    "# Check if the required columns exist in merged_df\n",
    "required_columns = ['green_count', 'MYC+', 'red_count', 'ERBB2+', 'red_green_count', 'MYC+ERBB2+ ', 'blue_count','Unlabeled']\n",
    "for col in required_columns:\n",
    "    if col not in merged_df.columns:\n",
    "        print(f\"Column '{col}' not found in merged_df.\")\n",
    "\n",
    "# Continue with the rest of the code if all columns are present\n",
    "if all(col in merged_df.columns for col in required_columns):\n",
    "    # Step 5: Calculate the differences\n",
    "    merged_df['Actual MYC'] = merged_df['MYC+']\n",
    "    merged_df['Pred MYC'] = merged_df['green_count']\n",
    "    merged_df['Actual ERBB2'] = merged_df['ERBB2+']\n",
    "    merged_df['Pred ERBB2'] = merged_df['red_count']\n",
    "    merged_df['Actual MYC+ERBB2'] = merged_df['MYC+ERBB2+ ']\n",
    "    merged_df['Pred MYC+ERBB2'] = merged_df['red_green_count']\n",
    "            \n",
    "    \n",
    "    # Step 6: Create the final DataFrame with desired columns\n",
    "    #jq1_error_df = merged_df[['Actual MYC', 'Pred MYC', 'Actual ERBB2', 'Pred ERBB2', 'Actual MYC+ERBB2','Pred MYC+ERBB2']].copy()  # Ensure it's a copy\n",
    "    control_error_df = merged_df[['Image name','Actual MYC', 'Pred MYC', 'Actual ERBB2', 'Pred ERBB2', 'Actual MYC+ERBB2','Pred MYC+ERBB2']].copy()  # Ensure it's a copy\n",
    "\n",
    "    # Step 7: Save to a new CSV file\n",
    "    #jq1_error_df.to_csv('2170_jq1_summary.csv', index=False)\n",
    "    control_error_df.to_csv('2170_control_gt_summary_names.csv', index=False)\n",
    "\n",
    "    print(\"The 'summary.csv' file has been created.\")\n",
    "else:\n",
    "    print(\"Some required columns are missing. Please check the column names.\")\n"
   ]
  },
  {
   "cell_type": "code",
   "execution_count": 15,
   "id": "1a2bc8e0-285e-4930-bcc7-fe54d0298d99",
   "metadata": {},
   "outputs": [
    {
     "name": "stdout",
     "output_type": "stream",
     "text": [
      "Columns in merged_df:\n",
      "['Image name', 'red_count', 'green_count', 'blue_count', 'red_green_count', 'Site', 'Desc', 'MYC+', 'ERBB2+', 'MYC+ERBB2+ ', 'Unlabeled', 'Total_ecDNA', 'HSR', 'multimers', 'Comments', 'Generated by']\n",
      "The 'summary.csv' file has been created.\n"
     ]
    }
   ],
   "source": [
    "#generate summary files for jq1\n",
    "\n",
    "import pandas as pd\n",
    "import re\n",
    "import os\n",
    "\n",
    "# Load the CSV files\n",
    "#jq1_df = pd.read_csv('')\n",
    "#ecDNA_df = pd.read_csv('')\n",
    "\n",
    "# Step 1: Filter ecDNA_df to include only rows where 'Desc' contains 'JQ1_IC50_24h'  '2170_control'\n",
    "filtered_ecDNA_df = ecDNA_df[ecDNA_df['Desc'].str.contains('JQ1_IC50_24h', na=False)].copy()\n",
    "#filtered_ecDNA_df = ecDNA_df[ecDNA_df['Desc'].str.contains('2170_control', na=False)].copy()\n",
    "\n",
    "#prefix = 'NCIH2170_Control_'\n",
    "\n",
    "\n",
    "# Step 2: Extract 'Site' from 'Image name' in jq1_df\n",
    "def extract_site(image_name):\n",
    "    # base_name = image_name.split(prefix)[-1]\n",
    "    # name, ext = os.path.splitext(base_name)\n",
    "    match = re.search(r'NCIH2170_JC_JQ1_IC50_24h_(\\d+)_Merge', image_name)\n",
    "    return str(match.group(1)) if match else None\n",
    "    #return name\n",
    "\n",
    "jq1_df['Site'] = jq1_df['Image name'].apply(extract_site)\n",
    "#control_df['Site'] = control_df['Image name'].apply(extract_site)\n",
    "\n",
    "\n",
    "\n",
    "# Step 3: Extract 'Site' values from 'Desc' in filtered_ecDNA_df\n",
    "#filtered_ecDNA_df['Site'] = filtered_ecDNA_df['Desc'].str.extract(r'NCIH2170_JC_JQ1_IC50_24h_(\\d+)_Merge')[0]\n",
    "\n",
    "# Convert 'Site' columns to strings\n",
    "jq1_df['Site'] = jq1_df['Site'].astype(str)\n",
    "#control_df['Site'] = control_df['Site'].astype(str)\n",
    "filtered_ecDNA_df['Site'] = filtered_ecDNA_df['Site'].astype(str)\n",
    "\n",
    "# Step 4: Merge jq1_df with filtered_ecDNA_df based on 'Site'\n",
    "merged_df = pd.merge(jq1_df, filtered_ecDNA_df, left_on='Site', right_on='Site')\n",
    "#merged_df = pd.merge(control_df, filtered_ecDNA_df, left_on='Site', right_on='Site')\n",
    "\n",
    "# Print the column names in merged_df to check for discrepancies\n",
    "print(\"Columns in merged_df:\")\n",
    "print(merged_df.columns.tolist())\n",
    "\n",
    "# Check if the required columns exist in merged_df\n",
    "required_columns = ['green_count', 'MYC+', 'red_count', 'ERBB2+', 'red_green_count', 'MYC+ERBB2+ ', 'blue_count','Unlabeled']\n",
    "for col in required_columns:\n",
    "    if col not in merged_df.columns:\n",
    "        print(f\"Column '{col}' not found in merged_df.\")\n",
    "\n",
    "# Continue with the rest of the code if all columns are present\n",
    "if all(col in merged_df.columns for col in required_columns):\n",
    "    # Step 5: Calculate the differences\n",
    "    merged_df['Actual MYC'] = merged_df['MYC+']\n",
    "    merged_df['Pred MYC'] = merged_df['green_count']\n",
    "    merged_df['Actual ERBB2'] = merged_df['ERBB2+']\n",
    "    merged_df['Pred ERBB2'] = merged_df['red_count']\n",
    "    merged_df['Actual MYC+ERBB2'] = merged_df['MYC+ERBB2+ ']\n",
    "    merged_df['Pred MYC+ERBB2'] = merged_df['red_green_count']\n",
    "            \n",
    "    \n",
    "    # Step 6: Create the final DataFrame with desired columns\n",
    "    jq1_error_df = merged_df[['Image name','Actual MYC', 'Pred MYC', 'Actual ERBB2', 'Pred ERBB2', 'Actual MYC+ERBB2','Pred MYC+ERBB2']].copy()  # Ensure it's a copy\n",
    "    #control_error_df = merged_df[['Image name','Actual MYC', 'Pred MYC', 'Actual ERBB2', 'Pred ERBB2', 'Actual MYC+ERBB2','Pred MYC+ERBB2']].copy()  # Ensure it's a copy\n",
    "\n",
    "    # Step 7: Save to a new CSV file\n",
    "    jq1_error_df.to_csv('2170_jq1_gt_summary_names.csv', index=False)\n",
    "    #control_error_df.to_csv('2170_control_gt_summary_names.csv', index=False)\n",
    "\n",
    "    print(\"The 'summary.csv' file has been created.\")\n",
    "else:\n",
    "    print(\"Some required columns are missing. Please check the column names.\")\n"
   ]
  }
 ],
 "metadata": {
  "kernelspec": {
   "display_name": "Python 3 (ipykernel)",
   "language": "python",
   "name": "python3"
  },
  "language_info": {
   "codemirror_mode": {
    "name": "ipython",
    "version": 3
   },
   "file_extension": ".py",
   "mimetype": "text/x-python",
   "name": "python",
   "nbconvert_exporter": "python",
   "pygments_lexer": "ipython3",
   "version": "3.10.9"
  }
 },
 "nbformat": 4,
 "nbformat_minor": 5
}
