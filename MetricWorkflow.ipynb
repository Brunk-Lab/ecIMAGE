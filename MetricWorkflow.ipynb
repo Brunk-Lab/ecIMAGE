{
 "cells": [
  {
   "cell_type": "code",
   "execution_count": 1,
   "id": "41b77a47-06f8-47f2-8ccc-33c8b5ae7bed",
   "metadata": {},
   "outputs": [],
   "source": [
    "import os\n",
    "import numpy as np\n",
    "from PIL import Image, ImageDraw\n",
    "from scipy.ndimage import binary_fill_holes\n",
    "import cv2\n",
    "import matplotlib.pyplot as plt"
   ]
  },
  {
   "cell_type": "code",
   "execution_count": 15,
   "id": "5350bd56-a6e4-432d-80ed-fbb235c2a7d4",
   "metadata": {},
   "outputs": [
    {
     "name": "stdout",
     "output_type": "stream",
     "text": [
      "(2048, 2448)\n"
     ]
    },
    {
     "data": {
      "image/png": "[encoded data removed]",
      "text/plain": [
       "<Figure size 640x480 with 1 Axes>"
      ]
     },
     "metadata": {},
     "output_type": "display_data"
    }
   ],
   "source": [
    "test_image = '/work/users/a/a/aarav7/SNU16/SNU16_JQ_Masks/SNU16_JC_JQ1_IC50_24h_100_Merge.tif'\n",
    "tiff_image = Image.open(test_image)\n",
    "\n",
    "# Convert to a NumPy array\n",
    "image_array = np.array(tiff_image)\n",
    "print(image_array.shape)\n",
    "\n",
    "# Display the image using matplotlib\n",
    "plt.imshow(image_array, cmap='gray')\n",
    "plt.axis('off')  # Hide the axes for better visualization\n",
    "plt.show()"
   ]
  },
  {
   "cell_type": "code",
   "execution_count": null,
   "id": "2a9b3843-f7a1-4756-9be8-a921b672e23c",
   "metadata": {},
   "outputs": [
    {
     "name": "stdout",
     "output_type": "stream",
     "text": [
      "Predicted TIFF file for COLO320DM_qPCR_JQ1_24h_DMSO_104_Merge.npz not found in /work/users/a/a/aarav7/Split1/filled_predicted_masks\n",
      "Predicted TIFF file for COLO320DM_qPCR_JQ1_24h_DMSO_111_Merge.npz not found in /work/users/a/a/aarav7/Split1/filled_predicted_masks\n"
     ]
    }
   ],
   "source": [
    "# Paths to the directories\n",
    "true_segmentation_folder = '/work/users/a/a/aarav7/Masked_img_3_and_4_1164imgs/Segmentation_labels'\n",
    "predicted_segmentation_folder = '/work/users/a/a/aarav7/Split1/filled_predicted_masks'\n",
    "output_folder = '/work/users/a/a/aarav7/Split1/overlay_masks'\n",
    "\n",
    "# Define the colors for the output image\n",
    "color_green = [0, 255, 0]     # Green for true positive (both true and predicted positive)\n",
    "color_red = [255, 0, 0]       # Red for false negative (true positive, predicted negative)\n",
    "color_orange = [255, 165, 0]  # Orange for false positive (true negative, predicted positive)\n",
    "color_black = [0, 0, 0]       # Black for true negative\n",
    "\n",
    "# Fixed image size (2048x2448)\n",
    "fixed_image_shape = (2048, 2448)\n",
    "\n",
    "def png_to_binary_mask(png_image):\n",
    "    red_mask = (png_image[:, :, 0] == 240) & (png_image[:, :, 1] == 2) & (png_image[:, :, 2] == 127)\n",
    "    return red_mask.astype(np.uint8)\n",
    "\n",
    "# Function to convert the predicted TIFF image to a binary mask\n",
    "def tiff_to_binary_mask(tiff_image):\n",
    "    # Convert the image to a NumPy array\n",
    "    tiff_array = np.array(tiff_image)\n",
    "\n",
    "    # Assuming the red part of the image is positive, create a binary mask for red pixels\n",
    "    binary_mask = (tiff_array != 0).astype(np.uint8)\n",
    "    return binary_mask\n",
    "\n",
    "def fill_with_contours(coords, image_shape):\n",
    "    \"\"\"Given edge coordinates, fill the segmentation region using contours.\"\"\"\n",
    "    # Create a binary mask\n",
    "    mask = np.zeros(image_shape, dtype=np.uint8)\n",
    "\n",
    "    # Draw the edges on the mask\n",
    "    for coord in coords:\n",
    "        mask[coord[1], coord[0]] = 1\n",
    "\n",
    "    # Find contours\n",
    "    contours, _ = cv2.findContours(mask, cv2.RETR_EXTERNAL, cv2.CHAIN_APPROX_SIMPLE)\n",
    "\n",
    "    # Fill the contours\n",
    "    cv2.drawContours(mask, contours, -1, color=1, thickness=cv2.FILLED)\n",
    "\n",
    "    return mask\n",
    "\n",
    "# Iterate over each file in the true segmentation folder\n",
    "for filename in os.listdir(true_segmentation_folder):\n",
    "    if filename.endswith('.npz'):  # Only consider .npz files\n",
    "        true_seg_path = os.path.join(true_segmentation_folder, filename)\n",
    "        predicted_seg_path = os.path.join(predicted_segmentation_folder, f\"{os.path.splitext(filename)[0]}.tif\")\n",
    "\n",
    "        # Check if the corresponding predicted segmentation TIFF file exists\n",
    "        if os.path.exists(predicted_seg_path):\n",
    "            # Load the true segmentation .npz file\n",
    "            true_seg = np.load(true_seg_path)\n",
    "\n",
    "            # Load the predicted segmentation .tiff file\n",
    "            image = Image.open(predicted_seg_path) \n",
    "            predicted_image = np.array(image) \n",
    "\n",
    "            # Convert the TIFF image to a binary mask (1 for positive, 0 for negative)\n",
    "            predicted_mask = tiff_to_binary_mask(predicted_image)\n",
    "\n",
    "            # Create an empty RGB image with the fixed size (2048x2448)\n",
    "            output_image = np.full((*fixed_image_shape, 3), color_black, dtype=np.uint8)\n",
    "\n",
    "            true_mask = np.zeros(fixed_image_shape, dtype=np.uint8)\n",
    "            \n",
    "            for key in true_seg.files:\n",
    "                if key.startswith('arr_') and (int(key.split('_')[1]) % 3 == 2):\n",
    "                    coords = true_seg[key].reshape(-1, 2)\n",
    "                    filled_mask = fill_with_contours(coords, fixed_image_shape)\n",
    "                    true_mask = np.maximum(true_mask, filled_mask)\n",
    "            output_image[true_mask == 1] = color_red  # Initially mark all true positives as red\n",
    "\n",
    "            # Ensure that the predicted mask is the same size as the fixed image\n",
    "            predicted_mask_resized = cv2.resize(predicted_mask, (fixed_image_shape[1], fixed_image_shape[0]), interpolation=cv2.INTER_NEAREST)\n",
    "\n",
    "            # Overlay the masks onto the output image\n",
    "            for y in range(fixed_image_shape[0]):\n",
    "                for x in range(fixed_image_shape[1]):\n",
    "                    if true_mask[y, x] == 1 and predicted_mask_resized[y, x] == 1:\n",
    "                        output_image[y, x] = color_green  # Both true and predicted are positive\n",
    "                    elif true_mask[y, x] == 1 and predicted_mask_resized[y, x] == 0:\n",
    "                        output_image[y, x] = color_red  # True positive, predicted negative\n",
    "                    elif true_mask[y, x] == 0 and predicted_mask_resized[y, x] == 1:\n",
    "                        output_image[y, x] = color_orange  # True negative, predicted positive\n",
    "                    # Else, the pixel remains black\n",
    "\n",
    "            # Display the output image instead of saving it\n",
    "            output_image_path = os.path.join(output_folder, f\"{os.path.splitext(filename)[0]}.png\")\n",
    "            Image.fromarray(output_image).save(output_image_path)\n",
    "\n",
    "        else:\n",
    "            print(f\"Predicted TIFF file for {filename} not found in {predicted_segmentation_folder}\")\n"
   ]
  },
  {
   "cell_type": "code",
   "execution_count": null,
   "id": "4d7d0229-4bc1-4492-9621-774f65bb8d24",
   "metadata": {},
   "outputs": [],
   "source": []
  }
 ],
 "metadata": {
  "kernelspec": {
   "display_name": "Python 3 (ipykernel)",
   "language": "python",
   "name": "python3"
  },
  "language_info": {
   "codemirror_mode": {
    "name": "ipython",
    "version": 3
   },
   "file_extension": ".py",
   "mimetype": "text/x-python",
   "name": "python",
   "nbconvert_exporter": "python",
   "pygments_lexer": "ipython3",
   "version": "3.10.9"
  }
 },
 "nbformat": 4,
 "nbformat_minor": 5
}
